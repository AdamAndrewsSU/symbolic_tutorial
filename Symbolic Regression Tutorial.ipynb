{
 "cells": [
  {
   "cell_type": "markdown",
   "metadata": {},
   "source": [
    "## Symbolic Regression"
   ]
  },
  {
   "cell_type": "code",
   "execution_count": null,
   "metadata": {},
   "outputs": [],
   "source": [
    "%pylab inline\n",
    "from gplearn.genetic import SymbolicRegressor\n",
    "from sklearn.ensemble import RandomForestRegressor\n",
    "from sklearn.tree import DecisionTreeRegressor\n",
    "from sklearn.utils.random import check_random_state\n",
    "from mpl_toolkits.mplot3d import Axes3D\n",
    "import matplotlib.pyplot as plt\n",
    "import numpy as np\n",
    "import graphviz"
   ]
  },
  {
   "cell_type": "code",
   "execution_count": null,
   "metadata": {},
   "outputs": [],
   "source": [
    "\"\"\"\n",
    "Please fill out the function you'd like to fit. \n",
    "Note that we are using two variables, x0 and x1, in this example.\n",
    "\"\"\"\n",
    "def function(x0,x1):\n",
    "    return ...\n",
    "\n",
    "def function_w_noise(x0,x1,A):\n",
    "    noise = np.random.normal(0,A,np.shape(x0))\n",
    "    return function(x0,x1) + noise\n"
   ]
  },
  {
   "cell_type": "code",
   "execution_count": null,
   "metadata": {},
   "outputs": [],
   "source": [
    "\"\"\"\n",
    "Let's draw the function you created.\n",
    "Add the call to the function you wrote above.\n",
    "\"\"\"\n",
    "x0 = np.arange(-1, 1, .1)\n",
    "x1 = np.arange(-1, 1, .1)\n",
    "x0, x1 = np.meshgrid(x0, x1)\n",
    "y_truth = ...\n",
    "\n",
    "ax = plt.figure().gca(projection='3d')\n",
    "ax.set_xlim(-1, 1)\n",
    "ax.set_ylim(-1, 1)\n",
    "ax.set_xticks(np.arange(-1, 1.01, .5))\n",
    "ax.set_yticks(np.arange(-1, 1.01, .5))\n",
    "surf = ax.plot_surface(x0, x1, y_truth, rstride=1, cstride=1, color='green', alpha=0.5)\n",
    "plt.show()"
   ]
  },
  {
   "cell_type": "code",
   "execution_count": null,
   "metadata": {},
   "outputs": [],
   "source": [
    "# GENERATE TRAINING DATA AND TESTING DATA\n",
    "rng = check_random_state(0)\n",
    "A = 0.1 #noise factor\n",
    "\n",
    "# Training samples\n",
    "X_train = rng.uniform(-1, 1, 100).reshape(50, 2)\n",
    "x0_train = X_train[:, 0]\n",
    "x1_train = X_train[:, 1]\n",
    "y_train = function_w_noise(x0_train,x1_train,A)\n",
    "\n",
    "# Testing samples\n",
    "X_test = rng.uniform(-1, 1, 100).reshape(50, 2)\n",
    "x0_test = X_test[:, 0]\n",
    "x1_test = X_test[:, 1]\n",
    "y_test = function_w_noise(x0_test,x1_test,A)"
   ]
  },
  {
   "cell_type": "code",
   "execution_count": null,
   "metadata": {},
   "outputs": [],
   "source": [
    "\"\"\"\n",
    "Let's fit the training data to the Symbolic Regressor.\n",
    "First we create the SymbolicRegressor(). Set population_size to 5000 and\n",
    "number of generations to 20. Let the other configs be as they are:\n",
    "\"\"\"\n",
    "\n",
    "... = SymbolicRegressor(population_size=...,\n",
    "                        generations=..., \n",
    "                        stopping_criteria=0.01,\n",
    "                        p_crossover=0.7, p_subtree_mutation=0.1,\n",
    "                        p_hoist_mutation=0.05, p_point_mutation=0.1,\n",
    "                        max_samples=0.9, verbose=1,\n",
    "                        parsimony_coefficient=0.01, random_state=0,\n",
    "                        function_set = ['add', 'sub', 'mul', 'div'])\n",
    "#Full list of functions to explore:\n",
    "#function_set = ['add', 'sub', 'mul', 'div','sqrt','log','abs','neg',\n",
    "#               'inv','max','min','sin','cos','tan']\n",
    "\"\"\"\n",
    "Next, fit it with .fit() command, calling Xtrain and ytrain as input:\n",
    "\"\"\"\n",
    "\n",
    "..."
   ]
  },
  {
   "cell_type": "code",
   "execution_count": 1,
   "metadata": {
    "scrolled": true
   },
   "outputs": [
    {
     "ename": "AttributeError",
     "evalue": "'ellipsis' object has no attribute 'predict'",
     "output_type": "error",
     "traceback": [
      "\u001b[0;31m---------------------------------------------------------------------------\u001b[0m",
      "\u001b[0;31mAttributeError\u001b[0m                            Traceback (most recent call last)",
      "\u001b[0;32m<ipython-input-1-50e3bdf0ff59>\u001b[0m in \u001b[0;36m<module>\u001b[0;34m\u001b[0m\n\u001b[1;32m      3\u001b[0m \u001b[0mThen\u001b[0m\u001b[0;34m,\u001b[0m \u001b[0mcall\u001b[0m \u001b[0;34m.\u001b[0m\u001b[0mscore\u001b[0m\u001b[0;34m(\u001b[0m\u001b[0;34m)\u001b[0m \u001b[0mon\u001b[0m \u001b[0myour\u001b[0m \u001b[0msymbolic\u001b[0m \u001b[0mregressor\u001b[0m \u001b[0;32mand\u001b[0m \u001b[0mstore\u001b[0m \u001b[0mthat\u001b[0m \u001b[0;32min\u001b[0m \u001b[0mscore_gp\u001b[0m\u001b[0;34m\u001b[0m\u001b[0;34m\u001b[0m\u001b[0m\n\u001b[1;32m      4\u001b[0m \"\"\"\n\u001b[0;32m----> 5\u001b[0;31m \u001b[0my_gp\u001b[0m \u001b[0;34m=\u001b[0m \u001b[0;34m...\u001b[0m \u001b[0;34m.\u001b[0m\u001b[0mpredict\u001b[0m\u001b[0;34m(\u001b[0m\u001b[0mnp\u001b[0m\u001b[0;34m.\u001b[0m\u001b[0mc_\u001b[0m\u001b[0;34m[\u001b[0m\u001b[0mx0\u001b[0m\u001b[0;34m.\u001b[0m\u001b[0mravel\u001b[0m\u001b[0;34m(\u001b[0m\u001b[0;34m)\u001b[0m\u001b[0;34m,\u001b[0m \u001b[0mx1\u001b[0m\u001b[0;34m.\u001b[0m\u001b[0mravel\u001b[0m\u001b[0;34m(\u001b[0m\u001b[0;34m)\u001b[0m\u001b[0;34m]\u001b[0m\u001b[0;34m)\u001b[0m\u001b[0;34m.\u001b[0m\u001b[0mreshape\u001b[0m\u001b[0;34m(\u001b[0m\u001b[0mx0\u001b[0m\u001b[0;34m.\u001b[0m\u001b[0mshape\u001b[0m\u001b[0;34m)\u001b[0m\u001b[0;34m\u001b[0m\u001b[0;34m\u001b[0m\u001b[0m\n\u001b[0m\u001b[1;32m      6\u001b[0m \u001b[0mscore_gp\u001b[0m \u001b[0;34m=\u001b[0m \u001b[0;34m...\u001b[0m \u001b[0;34m.\u001b[0m\u001b[0mscore\u001b[0m\u001b[0;34m(\u001b[0m\u001b[0mX_test\u001b[0m\u001b[0;34m,\u001b[0m \u001b[0my_test\u001b[0m\u001b[0;34m)\u001b[0m\u001b[0;34m\u001b[0m\u001b[0;34m\u001b[0m\u001b[0m\n\u001b[1;32m      7\u001b[0m \u001b[0;34m\u001b[0m\u001b[0m\n",
      "\u001b[0;31mAttributeError\u001b[0m: 'ellipsis' object has no attribute 'predict'"
     ]
    }
   ],
   "source": [
    "\"\"\"\n",
    "Call .predict() on your symbolic regressor and store the output in y_gp.\n",
    "Then, call .score() on your symbolic regressor and store that in score_gp\n",
    "\"\"\"\n",
    "y_gp = ... .predict(np.c_[x0.ravel(), x1.ravel()]).reshape(x0.shape)\n",
    "score_gp = ... .score(X_test, y_test)\n",
    "\n",
    "fig = plt.figure(figsize=(12, 10))\n",
    "\n",
    "for i, (y, score, title) in enumerate([(y_truth, None, \"Ground Truth\"),\n",
    "                                       (y_gp, score_gp, \"SymbolicRegressor\")]):\n",
    "\n",
    "    ax = fig.add_subplot(2, 2, i+1, projection='3d')\n",
    "    ax.set_xlim(-1, 1)\n",
    "    ax.set_ylim(-1, 1)\n",
    "    ax.set_xticks(np.arange(-1, 1.01, .5))\n",
    "    ax.set_yticks(np.arange(-1, 1.01, .5))\n",
    "    surf = ax.plot_surface(x0, x1, y, rstride=1, cstride=1, color='green', alpha=0.5)\n",
    "    points = ax.scatter(X_train[:, 0], X_train[:, 1], y_train)\n",
    "    if score is not None:\n",
    "        score = ax.text(-.7, 1, .2, \"$R^2 =\\/ %.6f$\" % score, 'x', fontsize=14)\n",
    "    plt.title(title,loc = 'left')\n",
    "\n",
    "plt.show()\n",
    "\n"
   ]
  },
  {
   "cell_type": "code",
   "execution_count": null,
   "metadata": {},
   "outputs": [],
   "source": [
    "\"\"\"\n",
    "Call ._program.export_graphviz() on your symbolic regressor, and store that to dot_data:\n",
    "\"\"\"\n",
    "\n",
    "dot_data = ... ._program.export_graphviz()\n",
    "graph = graphviz.Source(dot_data)\n",
    "graph.render('images/ex1_child', format='png', cleanup=True)\n",
    "graph\n"
   ]
  },
  {
   "cell_type": "code",
   "execution_count": null,
   "metadata": {},
   "outputs": [],
   "source": [
    "\"\"\"\n",
    "Prints out how the current tree was generated and which its parents were\n",
    "\"\"\"\n",
    "print(est_gp._program.parents)"
   ]
  }
 ],
 "metadata": {
  "kernelspec": {
   "display_name": "Python 3",
   "language": "python",
   "name": "python3"
  },
  "language_info": {
   "codemirror_mode": {
    "name": "ipython",
    "version": 3
   },
   "file_extension": ".py",
   "mimetype": "text/x-python",
   "name": "python",
   "nbconvert_exporter": "python",
   "pygments_lexer": "ipython3",
   "version": "3.7.5"
  }
 },
 "nbformat": 4,
 "nbformat_minor": 2
}
